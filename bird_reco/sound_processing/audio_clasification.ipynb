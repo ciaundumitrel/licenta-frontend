{
 "cells": [
  {
   "cell_type": "code",
   "execution_count": 1,
   "id": "initial_id",
   "metadata": {
    "collapsed": true,
    "ExecuteTime": {
     "end_time": "2024-05-26T10:31:48.978863400Z",
     "start_time": "2024-05-26T10:31:42.648391300Z"
    }
   },
   "outputs": [],
   "source": [
    "import os\n",
    "\n",
    "from matplotlib import pyplot as plt\n",
    "import tensorflow as tf \n",
    "import tensorflow_io as tfio\n",
    "import wave"
   ]
  },
  {
   "cell_type": "code",
   "execution_count": 2,
   "outputs": [],
   "source": [
    "def load_wav_16k_mono(filename):\n",
    "    # Load encoded wav file\n",
    "    file_contents = tf.io.read_file(filename)\n",
    "    # Decode wav (tensors by channels)\n",
    "    wav, sample_rate = tf.audio.decode_wav(file_contents, desired_channels=1, desired_samples=48000)\n",
    "    # Removes trailing axis\n",
    "    wav = tf.squeeze(wav, axis=-1)\n",
    "    sample_rate = tf.cast(sample_rate, dtype=tf.int64)\n",
    "    # Goes from 44100Hz to 16000hz - amplitude of the audio signal\n",
    "    wav = tfio.audio.resample(wav, rate_in=sample_rate, rate_out=16000)\n",
    "    return wav"
   ],
   "metadata": {
    "collapsed": false,
    "ExecuteTime": {
     "end_time": "2024-05-26T10:31:49.017860100Z",
     "start_time": "2024-05-26T10:31:48.946861500Z"
    }
   },
   "id": "fc85601658bb1465"
  },
  {
   "cell_type": "code",
   "execution_count": 9,
   "outputs": [],
   "source": [],
   "metadata": {
    "collapsed": false,
    "ExecuteTime": {
     "end_time": "2024-05-26T10:30:35.394997600Z",
     "start_time": "2024-05-26T10:30:35.296475200Z"
    }
   },
   "id": "5e5cb24948969560"
  },
  {
   "cell_type": "code",
   "execution_count": 10,
   "outputs": [],
   "source": [
    "file = r\"C:\\dumi\\bird_reco\\sounds\\recordings\\sound_.wav\"\n",
    "\n"
   ],
   "metadata": {
    "collapsed": false,
    "ExecuteTime": {
     "end_time": "2024-05-26T10:30:35.426005Z",
     "start_time": "2024-05-26T10:30:35.366005300Z"
    }
   },
   "id": "b981e41b03a725ad"
  },
  {
   "cell_type": "markdown",
   "source": [],
   "metadata": {
    "collapsed": false
   },
   "id": "147de14ebaf96d2d"
  },
  {
   "cell_type": "code",
   "execution_count": 10,
   "outputs": [],
   "source": [],
   "metadata": {
    "collapsed": false,
    "ExecuteTime": {
     "end_time": "2024-05-26T10:30:35.519543200Z",
     "start_time": "2024-05-26T10:30:35.430006500Z"
    }
   },
   "id": "fe83d657e6516e94"
  },
  {
   "cell_type": "code",
   "execution_count": 3,
   "outputs": [],
   "source": [
    "house_sparrows_dir = os.path.join('..', 'sounds', 'House Sparrow', 'splits')\n",
    "common_buzzard_dir = os.path.join('..', 'sounds', 'Common Buzzard', 'splits')\n",
    "\n",
    "\n",
    "for file in os.listdir(common_buzzard_dir):\n",
    "    sample_width = 0\n",
    "    with wave.open(os.path.join(f'{common_buzzard_dir}', file), \"rb\") as wave_file:\n",
    "        getparams = wave_file.getparams()\n",
    "        sample_width = getparams.sampwidth\n",
    "    if sample_width != 2:\n",
    "        os.remove(os.path.join(f'{common_buzzard_dir}', file))\n",
    "\n",
    "for file in os.listdir(house_sparrows_dir):\n",
    "    sample_width = 0\n",
    "    with wave.open(os.path.join(f'{house_sparrows_dir}', file), \"rb\") as wave_file:\n",
    "        getparams = wave_file.getparams()\n",
    "        sample_width = getparams.sampwidth\n",
    "    if sample_width != 2:\n",
    "        os.remove(os.path.join(f'{house_sparrows_dir}', file))\n",
    "\n",
    "\n",
    "house_sparrows = tf.data.Dataset.list_files(house_sparrows_dir + \"\\*.wav\").take(32)\n",
    "common_buzzard = tf.data.Dataset.list_files(common_buzzard_dir + \"\\*.wav\").take(32)\n",
    "\n"
   ],
   "metadata": {
    "collapsed": false,
    "ExecuteTime": {
     "end_time": "2024-05-26T10:31:50.470662400Z",
     "start_time": "2024-05-26T10:31:48.962870Z"
    }
   },
   "id": "d5b6707952262ecd"
  },
  {
   "cell_type": "code",
   "execution_count": 4,
   "outputs": [],
   "source": [
    "\n",
    "sparrows = tf.data.Dataset.zip((house_sparrows, tf.data.Dataset.from_tensor_slices(tf.ones(len(house_sparrows)))))\n",
    "buzzards = tf.data.Dataset.zip((house_sparrows, tf.data.Dataset.from_tensor_slices(tf.zeros(len(common_buzzard)))))\n",
    "data = sparrows.concatenate(buzzards)"
   ],
   "metadata": {
    "collapsed": false,
    "ExecuteTime": {
     "end_time": "2024-05-26T10:31:50.544858300Z",
     "start_time": "2024-05-26T10:31:50.472658400Z"
    }
   },
   "id": "7932bee1ddd30e2b"
  },
  {
   "cell_type": "code",
   "execution_count": 5,
   "outputs": [
    {
     "data": {
      "text/plain": "32"
     },
     "execution_count": 5,
     "metadata": {},
     "output_type": "execute_result"
    }
   ],
   "source": [
    "sparrows.as_numpy_iterator().next()\n",
    "len(sparrows)"
   ],
   "metadata": {
    "collapsed": false,
    "ExecuteTime": {
     "end_time": "2024-05-26T10:31:50.739697400Z",
     "start_time": "2024-05-26T10:31:50.518319Z"
    }
   },
   "id": "be8a1c120955753"
  },
  {
   "cell_type": "code",
   "execution_count": 7,
   "outputs": [
    {
     "name": "stdout",
     "output_type": "stream",
     "text": [
      "WARNING:tensorflow:5 out of the last 5 calls to <function pfor.<locals>.f at 0x000002476B884A60> triggered tf.function retracing. Tracing is expensive and the excessive number of tracings could be due to (1) creating @tf.function repeatedly in a loop, (2) passing tensors with different shapes, (3) passing Python objects instead of tensors. For (1), please define your @tf.function outside of the loop. For (2), @tf.function has reduce_retracing=True option that can avoid unnecessary retracing. For (3), please refer to https://www.tensorflow.org/guide/function#controlling_retracing and https://www.tensorflow.org/api_docs/python/tf/function for  more details.\n",
      "WARNING:tensorflow:6 out of the last 6 calls to <function pfor.<locals>.f at 0x000002476B884820> triggered tf.function retracing. Tracing is expensive and the excessive number of tracings could be due to (1) creating @tf.function repeatedly in a loop, (2) passing tensors with different shapes, (3) passing Python objects instead of tensors. For (1), please define your @tf.function outside of the loop. For (2), @tf.function has reduce_retracing=True option that can avoid unnecessary retracing. For (3), please refer to https://www.tensorflow.org/guide/function#controlling_retracing and https://www.tensorflow.org/api_docs/python/tf/function for  more details.\n",
      "done\n"
     ]
    }
   ],
   "source": [
    "lengths = []\n",
    "skipped = 0\n",
    "count = 0\n",
    "for file in os.listdir(house_sparrows_dir):\n",
    "    count += 1 \n",
    "    if count >=32 :\n",
    "        break\n",
    "    try:\n",
    "        tensor_wave = load_wav_16k_mono(os.path.join(house_sparrows_dir, file))\n",
    "        lengths.append(len(tensor_wave))\n",
    "    except Exception as e:\n",
    "        skipped += 1\n",
    "        print(file)\n",
    "        pass\n",
    "print(\"done\")"
   ],
   "metadata": {
    "collapsed": false,
    "ExecuteTime": {
     "end_time": "2024-05-26T10:32:03.797201200Z",
     "start_time": "2024-05-26T10:32:00.644345Z"
    }
   },
   "id": "c1e5c0b84fcaa5a1"
  },
  {
   "cell_type": "code",
   "execution_count": 8,
   "outputs": [
    {
     "data": {
      "text/plain": "[17414,\n 17414,\n 17414,\n 17414,\n 17414,\n 17414,\n 17414,\n 17414,\n 17414,\n 17414,\n 17414,\n 17414,\n 17414,\n 17414,\n 17414,\n 17414,\n 17414,\n 17414,\n 17414,\n 17414,\n 17414,\n 17414,\n 17414,\n 17414,\n 17414,\n 17414,\n 17414,\n 17414,\n 17414,\n 17414,\n 17414]"
     },
     "execution_count": 8,
     "metadata": {},
     "output_type": "execute_result"
    }
   ],
   "source": [
    "lengths"
   ],
   "metadata": {
    "collapsed": false,
    "ExecuteTime": {
     "end_time": "2024-05-26T10:32:04.467587400Z",
     "start_time": "2024-05-26T10:32:04.412058200Z"
    }
   },
   "id": "408172ff9014a1dd"
  },
  {
   "cell_type": "code",
   "execution_count": 9,
   "outputs": [
    {
     "data": {
      "text/plain": "<tf.Tensor: shape=(), dtype=int32, numpy=17414>"
     },
     "execution_count": 9,
     "metadata": {},
     "output_type": "execute_result"
    }
   ],
   "source": [
    "tf.math.reduce_mean(lengths)\n",
    "tf.math.reduce_min(lengths)\n"
   ],
   "metadata": {
    "collapsed": false,
    "ExecuteTime": {
     "end_time": "2024-05-26T10:32:07.372637900Z",
     "start_time": "2024-05-26T10:32:07.323121200Z"
    }
   },
   "id": "13686e384edbf339"
  },
  {
   "cell_type": "code",
   "execution_count": 10,
   "outputs": [],
   "source": [
    "def preprocess(file_path, label):\n",
    "    wav = load_wav_16k_mono(file_path)\n",
    "    wav = wav[:48000]\n",
    "    zero_padding = tf.zeros([48000] - tf.shape(wav), dtype=tf.float32)\n",
    "    wav = tf.concat([zero_padding, wav], 0)\n",
    "    spectrogram = tf.signal.stft(wav, frame_length=320, frame_step=32)\n",
    "    spectrogram = tf.abs(spectrogram)\n",
    "    spectrogram = tf.expand_dims(spectrogram, axis=2)\n",
    "    return spectrogram, label\n",
    "    "
   ],
   "metadata": {
    "collapsed": false,
    "ExecuteTime": {
     "end_time": "2024-05-26T10:32:08.667731100Z",
     "start_time": "2024-05-26T10:32:08.603192600Z"
    }
   },
   "id": "8c7bf4847dac82c9"
  },
  {
   "cell_type": "code",
   "execution_count": 11,
   "outputs": [],
   "source": [
    "\n",
    "filepath, label = sparrows.shuffle(buffer_size=10000).as_numpy_iterator().next()"
   ],
   "metadata": {
    "collapsed": false,
    "ExecuteTime": {
     "end_time": "2024-05-26T10:32:09.541547500Z",
     "start_time": "2024-05-26T10:32:09.484555400Z"
    }
   },
   "id": "5c38a80782948b8c"
  },
  {
   "cell_type": "code",
   "execution_count": null,
   "outputs": [],
   "source": [
    "spectrogram, label = preprocess(filepath, label)\n",
    "label"
   ],
   "metadata": {
    "collapsed": false,
    "is_executing": true
   },
   "id": "bb91974463219e63"
  },
  {
   "cell_type": "code",
   "execution_count": 13,
   "outputs": [
    {
     "data": {
      "text/plain": "<Figure size 3000x2000 with 1 Axes>",
      "image/png": "[encoded data removed]"
     },
     "metadata": {},
     "output_type": "display_data"
    }
   ],
   "source": [
    "plt.figure(figsize=(30,20))\n",
    "plt.imshow(tf.transpose(spectrogram)[0])\n",
    "plt.show()\n"
   ],
   "metadata": {
    "collapsed": false,
    "ExecuteTime": {
     "end_time": "2024-05-26T10:32:12.875254200Z",
     "start_time": "2024-05-26T10:32:11.678941800Z"
    }
   },
   "id": "bb233110dbeed087"
  },
  {
   "cell_type": "code",
   "execution_count": 14,
   "outputs": [
    {
     "name": "stdout",
     "output_type": "stream",
     "text": [
      "WARNING:tensorflow:From C:\\dumi\\bird_reco\\.venv\\lib\\site-packages\\tensorflow\\python\\autograph\\pyct\\static_analysis\\liveness.py:83: Analyzer.lamba_check (from tensorflow.python.autograph.pyct.static_analysis.liveness) is deprecated and will be removed after 2023-09-23.\n",
      "Instructions for updating:\n",
      "Lambda fuctions will be no more assumed to be used in the statement where they are used, or at least in the same block. https://github.com/tensorflow/tensorflow/issues/56089\n",
      "WARNING:tensorflow:Using a while_loop for converting IO>AudioResample cause there is no registered converter for this op.\n"
     ]
    }
   ],
   "source": [
    "data = sparrows.map(preprocess)\n",
    "data = data.cache(filename=\"tmp/cache\")\n",
    "data = data.shuffle(buffer_size=16)\n",
    "data = data.batch(1)\n",
    "data = data.prefetch(1)\n"
   ],
   "metadata": {
    "collapsed": false,
    "ExecuteTime": {
     "end_time": "2024-05-26T10:32:15.038240500Z",
     "start_time": "2024-05-26T10:32:13.958015800Z"
    }
   },
   "id": "964010e847c3c87b"
  },
  {
   "cell_type": "code",
   "execution_count": 15,
   "outputs": [],
   "source": [
    "import time \n",
    "def benchmark(dataset, num_epochs=2):\n",
    "    for epoch_num in range(num_epochs):\n",
    "        for sample in dataset:\n",
    "            time.sleep(0.01)"
   ],
   "metadata": {
    "collapsed": false,
    "ExecuteTime": {
     "end_time": "2024-05-26T10:32:16.298981Z",
     "start_time": "2024-05-26T10:32:16.225833Z"
    }
   },
   "id": "119cfcb0e2fd43e8"
  },
  {
   "cell_type": "code",
   "execution_count": 43,
   "outputs": [
    {
     "name": "stdout",
     "output_type": "stream",
     "text": [
      "2min 54s ± 0 ns per loop (mean ± std. dev. of 1 run, 1 loop each)\n"
     ]
    }
   ],
   "source": [
    "%%timeit -n1 -r1\n",
    "benchmark(data, 5)"
   ],
   "metadata": {
    "collapsed": false,
    "ExecuteTime": {
     "end_time": "2024-05-26T10:01:38.780107600Z",
     "start_time": "2024-05-26T09:58:43.828689500Z"
    }
   },
   "id": "ba098bc3b33d7658"
  },
  {
   "cell_type": "code",
   "execution_count": 16,
   "outputs": [],
   "source": [
    "train = data.take(36)\n",
    "test = data.skip(36).take(15)\n"
   ],
   "metadata": {
    "collapsed": false,
    "ExecuteTime": {
     "end_time": "2024-05-26T10:32:19.083212400Z",
     "start_time": "2024-05-26T10:32:19.045691100Z"
    }
   },
   "id": "36f2e6bd26187eb9"
  },
  {
   "cell_type": "code",
   "execution_count": 17,
   "outputs": [],
   "source": [
    "samples, labels = train.as_numpy_iterator().next()"
   ],
   "metadata": {
    "collapsed": false,
    "ExecuteTime": {
     "end_time": "2024-05-26T10:32:20.841835400Z",
     "start_time": "2024-05-26T10:32:20.657059800Z"
    }
   },
   "id": "3bb5deaf076779d1"
  },
  {
   "cell_type": "code",
   "execution_count": 18,
   "outputs": [
    {
     "data": {
      "text/plain": "(1, 1491, 257, 1)"
     },
     "execution_count": 18,
     "metadata": {},
     "output_type": "execute_result"
    }
   ],
   "source": [
    "samples.shape"
   ],
   "metadata": {
    "collapsed": false,
    "ExecuteTime": {
     "end_time": "2024-05-26T10:32:23.124766200Z",
     "start_time": "2024-05-26T10:32:23.048231100Z"
    }
   },
   "id": "fd26d44cb6bf80ca"
  },
  {
   "cell_type": "code",
   "execution_count": 19,
   "outputs": [],
   "source": [
    "from tensorflow.keras.models import Sequential\n",
    "from tensorflow.keras.layers import Conv2D, Dense, Flatten"
   ],
   "metadata": {
    "collapsed": false,
    "ExecuteTime": {
     "end_time": "2024-05-26T10:32:24.637137900Z",
     "start_time": "2024-05-26T10:32:24.597134100Z"
    }
   },
   "id": "d55d2b279b00a9d4"
  },
  {
   "cell_type": "code",
   "execution_count": 20,
   "outputs": [],
   "source": [
    "model = Sequential()\n",
    "model.add(Conv2D(16, (3,3), activation=\"relu\", input_shape=(1491, 257,1)))\n",
    "model.add(Conv2D(16, (3,3), activation=\"relu\"))\n",
    "model.add(Flatten())\n",
    "model.add(Dense(128, activation=\"relu\"))\n",
    "model.add(Dense(1, activation=\"sigmoid\"))"
   ],
   "metadata": {
    "collapsed": false,
    "ExecuteTime": {
     "end_time": "2024-05-26T10:32:47.397808300Z",
     "start_time": "2024-05-26T10:32:25.308823Z"
    }
   },
   "id": "4633d00998d37519"
  },
  {
   "cell_type": "code",
   "execution_count": 22,
   "outputs": [],
   "source": [
    "model.compile('Adam', loss='BinaryCrossentropy', metrics=[tf.keras.metrics.Recall(),tf.keras.metrics.Precision()])\n"
   ],
   "metadata": {
    "collapsed": false,
    "ExecuteTime": {
     "end_time": "2024-05-26T10:33:28.496859600Z",
     "start_time": "2024-05-26T10:33:28.425802700Z"
    }
   },
   "id": "68146decdf41e228"
  },
  {
   "cell_type": "code",
   "execution_count": 23,
   "outputs": [
    {
     "name": "stdout",
     "output_type": "stream",
     "text": [
      "Model: \"sequential\"\n",
      "_________________________________________________________________\n",
      " Layer (type)                Output Shape              Param #   \n",
      "=================================================================\n",
      " conv2d (Conv2D)             (None, 1489, 255, 16)     160       \n",
      "                                                                 \n",
      " conv2d_1 (Conv2D)           (None, 1487, 253, 16)     2320      \n",
      "                                                                 \n",
      " flatten (Flatten)           (None, 6019376)           0         \n",
      "                                                                 \n",
      " dense (Dense)               (None, 128)               770480256 \n",
      "                                                                 \n",
      " dense_1 (Dense)             (None, 1)                 129       \n",
      "                                                                 \n",
      "=================================================================\n",
      "Total params: 770,482,865\n",
      "Trainable params: 770,482,865\n",
      "Non-trainable params: 0\n",
      "_________________________________________________________________\n"
     ]
    }
   ],
   "source": [
    "model.summary()\n"
   ],
   "metadata": {
    "collapsed": false,
    "ExecuteTime": {
     "end_time": "2024-05-26T10:33:30.822076600Z",
     "start_time": "2024-05-26T10:33:30.713531400Z"
    }
   },
   "id": "715ea68acb393322"
  },
  {
   "cell_type": "code",
   "execution_count": 1,
   "outputs": [
    {
     "ename": "NameError",
     "evalue": "name 'model' is not defined",
     "output_type": "error",
     "traceback": [
      "\u001B[1;31m---------------------------------------------------------------------------\u001B[0m",
      "\u001B[1;31mNameError\u001B[0m                                 Traceback (most recent call last)",
      "Cell \u001B[1;32mIn[1], line 1\u001B[0m\n\u001B[1;32m----> 1\u001B[0m hist \u001B[38;5;241m=\u001B[39m \u001B[43mmodel\u001B[49m\u001B[38;5;241m.\u001B[39mfit(train, epochs\u001B[38;5;241m=\u001B[39m\u001B[38;5;241m2\u001B[39m)\n",
      "\u001B[1;31mNameError\u001B[0m: name 'model' is not defined"
     ]
    }
   ],
   "source": [
    "hist = model.fit(train, epochs=2)\n"
   ],
   "metadata": {
    "collapsed": false,
    "ExecuteTime": {
     "end_time": "2024-05-26T10:34:58.821421500Z",
     "start_time": "2024-05-26T10:34:58.367563100Z"
    }
   },
   "id": "63333b5b73c23398"
  },
  {
   "cell_type": "code",
   "execution_count": 133,
   "outputs": [
    {
     "data": {
      "text/plain": "<Figure size 640x480 with 1 Axes>",
      "image/png": "[encoded data removed]"
     },
     "metadata": {},
     "output_type": "display_data"
    }
   ],
   "source": [
    "\n",
    "plt.title('Loss')\n",
    "plt.plot(hist.history['loss'], 'r')\n",
    "plt.plot(hist.history['val_loss'], 'b')\n",
    "plt.show()"
   ],
   "metadata": {
    "collapsed": false,
    "ExecuteTime": {
     "end_time": "2024-05-25T10:17:05.034919Z",
     "start_time": "2024-05-25T10:17:04.282976100Z"
    }
   },
   "id": "f3d78cecfcde0784"
  },
  {
   "cell_type": "code",
   "execution_count": 134,
   "outputs": [
    {
     "ename": "KeyError",
     "evalue": "'precision'",
     "output_type": "error",
     "traceback": [
      "\u001B[1;31m---------------------------------------------------------------------------\u001B[0m",
      "\u001B[1;31mKeyError\u001B[0m                                  Traceback (most recent call last)",
      "Cell \u001B[1;32mIn[134], line 2\u001B[0m\n\u001B[0;32m      1\u001B[0m plt\u001B[38;5;241m.\u001B[39mtitle(\u001B[38;5;124m'\u001B[39m\u001B[38;5;124mPrecision\u001B[39m\u001B[38;5;124m'\u001B[39m)\n\u001B[1;32m----> 2\u001B[0m plt\u001B[38;5;241m.\u001B[39mplot(\u001B[43mhist\u001B[49m\u001B[38;5;241;43m.\u001B[39;49m\u001B[43mhistory\u001B[49m\u001B[43m[\u001B[49m\u001B[38;5;124;43m'\u001B[39;49m\u001B[38;5;124;43mprecision\u001B[39;49m\u001B[38;5;124;43m'\u001B[39;49m\u001B[43m]\u001B[49m, \u001B[38;5;124m'\u001B[39m\u001B[38;5;124mr\u001B[39m\u001B[38;5;124m'\u001B[39m)\n\u001B[0;32m      3\u001B[0m plt\u001B[38;5;241m.\u001B[39mplot(hist\u001B[38;5;241m.\u001B[39mhistory[\u001B[38;5;124m'\u001B[39m\u001B[38;5;124mval_precision\u001B[39m\u001B[38;5;124m'\u001B[39m], \u001B[38;5;124m'\u001B[39m\u001B[38;5;124mb\u001B[39m\u001B[38;5;124m'\u001B[39m)\n\u001B[0;32m      4\u001B[0m plt\u001B[38;5;241m.\u001B[39mshow()\n",
      "\u001B[1;31mKeyError\u001B[0m: 'precision'"
     ]
    },
    {
     "data": {
      "text/plain": "<Figure size 640x480 with 1 Axes>",
      "image/png": "[encoded data removed]"
     },
     "metadata": {},
     "output_type": "display_data"
    }
   ],
   "source": [
    "plt.title('Precision')\n",
    "plt.plot(hist.history['precision'], 'r')\n",
    "plt.plot(hist.history['val_precision'], 'b')\n",
    "plt.show()"
   ],
   "metadata": {
    "collapsed": false,
    "ExecuteTime": {
     "end_time": "2024-05-25T10:17:10.921515500Z",
     "start_time": "2024-05-25T10:17:10.144460800Z"
    }
   },
   "id": "e7d73862ad822450"
  },
  {
   "cell_type": "code",
   "execution_count": 135,
   "outputs": [
    {
     "ename": "KeyError",
     "evalue": "'recall'",
     "output_type": "error",
     "traceback": [
      "\u001B[1;31m---------------------------------------------------------------------------\u001B[0m",
      "\u001B[1;31mKeyError\u001B[0m                                  Traceback (most recent call last)",
      "Cell \u001B[1;32mIn[135], line 2\u001B[0m\n\u001B[0;32m      1\u001B[0m plt\u001B[38;5;241m.\u001B[39mtitle(\u001B[38;5;124m'\u001B[39m\u001B[38;5;124mRecall\u001B[39m\u001B[38;5;124m'\u001B[39m)\n\u001B[1;32m----> 2\u001B[0m plt\u001B[38;5;241m.\u001B[39mplot(\u001B[43mhist\u001B[49m\u001B[38;5;241;43m.\u001B[39;49m\u001B[43mhistory\u001B[49m\u001B[43m[\u001B[49m\u001B[38;5;124;43m'\u001B[39;49m\u001B[38;5;124;43mrecall\u001B[39;49m\u001B[38;5;124;43m'\u001B[39;49m\u001B[43m]\u001B[49m, \u001B[38;5;124m'\u001B[39m\u001B[38;5;124mr\u001B[39m\u001B[38;5;124m'\u001B[39m)\n\u001B[0;32m      3\u001B[0m plt\u001B[38;5;241m.\u001B[39mplot(hist\u001B[38;5;241m.\u001B[39mhistory[\u001B[38;5;124m'\u001B[39m\u001B[38;5;124mval_recall\u001B[39m\u001B[38;5;124m'\u001B[39m], \u001B[38;5;124m'\u001B[39m\u001B[38;5;124mb\u001B[39m\u001B[38;5;124m'\u001B[39m)\n\u001B[0;32m      4\u001B[0m plt\u001B[38;5;241m.\u001B[39mshow()\n",
      "\u001B[1;31mKeyError\u001B[0m: 'recall'"
     ]
    },
    {
     "data": {
      "text/plain": "<Figure size 640x480 with 1 Axes>",
      "image/png": "[encoded data removed]"
     },
     "metadata": {},
     "output_type": "display_data"
    }
   ],
   "source": [
    "plt.title('Recall')\n",
    "plt.plot(hist.history['recall'], 'r')\n",
    "plt.plot(hist.history['val_recall'], 'b')\n",
    "plt.show()"
   ],
   "metadata": {
    "collapsed": false,
    "ExecuteTime": {
     "end_time": "2024-05-25T10:17:20.928207500Z",
     "start_time": "2024-05-25T10:17:20.720214500Z"
    }
   },
   "id": "8d8283d3629ff2dd"
  },
  {
   "cell_type": "code",
   "execution_count": 136,
   "outputs": [],
   "source": [
    "X_test, y_test = test.as_numpy_iterator().next()\n"
   ],
   "metadata": {
    "collapsed": false,
    "ExecuteTime": {
     "end_time": "2024-05-25T10:17:37.062732800Z",
     "start_time": "2024-05-25T10:17:24.256722800Z"
    }
   },
   "id": "9e35398272e3ac59"
  },
  {
   "cell_type": "code",
   "execution_count": 137,
   "outputs": [
    {
     "name": "stdout",
     "output_type": "stream",
     "text": [
      "[[[[0.00000000e+00]\n",
      "   [0.00000000e+00]\n",
      "   [0.00000000e+00]\n",
      "   ...\n",
      "   [0.00000000e+00]\n",
      "   [0.00000000e+00]\n",
      "   [0.00000000e+00]]\n",
      "\n",
      "  [[0.00000000e+00]\n",
      "   [0.00000000e+00]\n",
      "   [0.00000000e+00]\n",
      "   ...\n",
      "   [0.00000000e+00]\n",
      "   [0.00000000e+00]\n",
      "   [0.00000000e+00]]\n",
      "\n",
      "  [[0.00000000e+00]\n",
      "   [0.00000000e+00]\n",
      "   [0.00000000e+00]\n",
      "   ...\n",
      "   [0.00000000e+00]\n",
      "   [0.00000000e+00]\n",
      "   [0.00000000e+00]]\n",
      "\n",
      "  ...\n",
      "\n",
      "  [[8.91138334e-05]\n",
      "   [9.08486472e-05]\n",
      "   [1.22356607e-04]\n",
      "   ...\n",
      "   [3.49177003e-06]\n",
      "   [2.28642602e-06]\n",
      "   [4.88944352e-09]]\n",
      "\n",
      "  [[9.16891731e-05]\n",
      "   [8.31191865e-05]\n",
      "   [1.17975993e-04]\n",
      "   ...\n",
      "   [4.73765340e-06]\n",
      "   [1.95849839e-06]\n",
      "   [1.91619620e-06]]\n",
      "\n",
      "  [[1.01963989e-04]\n",
      "   [5.89099982e-05]\n",
      "   [8.10053898e-05]\n",
      "   ...\n",
      "   [5.81873064e-06]\n",
      "   [3.26017016e-06]\n",
      "   [1.74622983e-06]]]\n",
      "\n",
      "\n",
      " [[[0.00000000e+00]\n",
      "   [0.00000000e+00]\n",
      "   [0.00000000e+00]\n",
      "   ...\n",
      "   [0.00000000e+00]\n",
      "   [0.00000000e+00]\n",
      "   [0.00000000e+00]]\n",
      "\n",
      "  [[0.00000000e+00]\n",
      "   [0.00000000e+00]\n",
      "   [0.00000000e+00]\n",
      "   ...\n",
      "   [0.00000000e+00]\n",
      "   [0.00000000e+00]\n",
      "   [0.00000000e+00]]\n",
      "\n",
      "  [[0.00000000e+00]\n",
      "   [0.00000000e+00]\n",
      "   [0.00000000e+00]\n",
      "   ...\n",
      "   [0.00000000e+00]\n",
      "   [0.00000000e+00]\n",
      "   [0.00000000e+00]]\n",
      "\n",
      "  ...\n",
      "\n",
      "  [[0.00000000e+00]\n",
      "   [0.00000000e+00]\n",
      "   [0.00000000e+00]\n",
      "   ...\n",
      "   [0.00000000e+00]\n",
      "   [0.00000000e+00]\n",
      "   [0.00000000e+00]]\n",
      "\n",
      "  [[0.00000000e+00]\n",
      "   [0.00000000e+00]\n",
      "   [0.00000000e+00]\n",
      "   ...\n",
      "   [0.00000000e+00]\n",
      "   [0.00000000e+00]\n",
      "   [0.00000000e+00]]\n",
      "\n",
      "  [[0.00000000e+00]\n",
      "   [0.00000000e+00]\n",
      "   [0.00000000e+00]\n",
      "   ...\n",
      "   [0.00000000e+00]\n",
      "   [0.00000000e+00]\n",
      "   [0.00000000e+00]]]\n",
      "\n",
      "\n",
      " [[[0.00000000e+00]\n",
      "   [0.00000000e+00]\n",
      "   [0.00000000e+00]\n",
      "   ...\n",
      "   [0.00000000e+00]\n",
      "   [0.00000000e+00]\n",
      "   [0.00000000e+00]]\n",
      "\n",
      "  [[0.00000000e+00]\n",
      "   [0.00000000e+00]\n",
      "   [0.00000000e+00]\n",
      "   ...\n",
      "   [0.00000000e+00]\n",
      "   [0.00000000e+00]\n",
      "   [0.00000000e+00]]\n",
      "\n",
      "  [[0.00000000e+00]\n",
      "   [0.00000000e+00]\n",
      "   [0.00000000e+00]\n",
      "   ...\n",
      "   [0.00000000e+00]\n",
      "   [0.00000000e+00]\n",
      "   [0.00000000e+00]]\n",
      "\n",
      "  ...\n",
      "\n",
      "  [[0.00000000e+00]\n",
      "   [0.00000000e+00]\n",
      "   [0.00000000e+00]\n",
      "   ...\n",
      "   [0.00000000e+00]\n",
      "   [0.00000000e+00]\n",
      "   [0.00000000e+00]]\n",
      "\n",
      "  [[0.00000000e+00]\n",
      "   [0.00000000e+00]\n",
      "   [0.00000000e+00]\n",
      "   ...\n",
      "   [0.00000000e+00]\n",
      "   [0.00000000e+00]\n",
      "   [0.00000000e+00]]\n",
      "\n",
      "  [[0.00000000e+00]\n",
      "   [0.00000000e+00]\n",
      "   [0.00000000e+00]\n",
      "   ...\n",
      "   [0.00000000e+00]\n",
      "   [0.00000000e+00]\n",
      "   [0.00000000e+00]]]\n",
      "\n",
      "\n",
      " ...\n",
      "\n",
      "\n",
      " [[[0.00000000e+00]\n",
      "   [0.00000000e+00]\n",
      "   [0.00000000e+00]\n",
      "   ...\n",
      "   [0.00000000e+00]\n",
      "   [0.00000000e+00]\n",
      "   [0.00000000e+00]]\n",
      "\n",
      "  [[0.00000000e+00]\n",
      "   [0.00000000e+00]\n",
      "   [0.00000000e+00]\n",
      "   ...\n",
      "   [0.00000000e+00]\n",
      "   [0.00000000e+00]\n",
      "   [0.00000000e+00]]\n",
      "\n",
      "  [[0.00000000e+00]\n",
      "   [0.00000000e+00]\n",
      "   [0.00000000e+00]\n",
      "   ...\n",
      "   [0.00000000e+00]\n",
      "   [0.00000000e+00]\n",
      "   [0.00000000e+00]]\n",
      "\n",
      "  ...\n",
      "\n",
      "  [[0.00000000e+00]\n",
      "   [0.00000000e+00]\n",
      "   [0.00000000e+00]\n",
      "   ...\n",
      "   [0.00000000e+00]\n",
      "   [0.00000000e+00]\n",
      "   [0.00000000e+00]]\n",
      "\n",
      "  [[0.00000000e+00]\n",
      "   [0.00000000e+00]\n",
      "   [0.00000000e+00]\n",
      "   ...\n",
      "   [0.00000000e+00]\n",
      "   [0.00000000e+00]\n",
      "   [0.00000000e+00]]\n",
      "\n",
      "  [[0.00000000e+00]\n",
      "   [0.00000000e+00]\n",
      "   [0.00000000e+00]\n",
      "   ...\n",
      "   [0.00000000e+00]\n",
      "   [0.00000000e+00]\n",
      "   [0.00000000e+00]]]\n",
      "\n",
      "\n",
      " [[[0.00000000e+00]\n",
      "   [0.00000000e+00]\n",
      "   [0.00000000e+00]\n",
      "   ...\n",
      "   [0.00000000e+00]\n",
      "   [0.00000000e+00]\n",
      "   [0.00000000e+00]]\n",
      "\n",
      "  [[0.00000000e+00]\n",
      "   [0.00000000e+00]\n",
      "   [0.00000000e+00]\n",
      "   ...\n",
      "   [0.00000000e+00]\n",
      "   [0.00000000e+00]\n",
      "   [0.00000000e+00]]\n",
      "\n",
      "  [[0.00000000e+00]\n",
      "   [0.00000000e+00]\n",
      "   [0.00000000e+00]\n",
      "   ...\n",
      "   [0.00000000e+00]\n",
      "   [0.00000000e+00]\n",
      "   [0.00000000e+00]]\n",
      "\n",
      "  ...\n",
      "\n",
      "  [[5.19994646e-05]\n",
      "   [6.26684123e-05]\n",
      "   [2.34509105e-04]\n",
      "   ...\n",
      "   [2.91711058e-06]\n",
      "   [3.31369915e-06]\n",
      "   [1.70432031e-06]]\n",
      "\n",
      "  [[4.64422628e-05]\n",
      "   [4.76746463e-05]\n",
      "   [2.11198014e-04]\n",
      "   ...\n",
      "   [1.64595917e-06]\n",
      "   [1.69452278e-06]\n",
      "   [1.43516809e-06]]\n",
      "\n",
      "  [[8.19033012e-05]\n",
      "   [1.37614945e-04]\n",
      "   [1.99178801e-04]\n",
      "   ...\n",
      "   [4.75988872e-06]\n",
      "   [3.73580247e-06]\n",
      "   [5.50318509e-06]]]\n",
      "\n",
      "\n",
      " [[[0.00000000e+00]\n",
      "   [0.00000000e+00]\n",
      "   [0.00000000e+00]\n",
      "   ...\n",
      "   [0.00000000e+00]\n",
      "   [0.00000000e+00]\n",
      "   [0.00000000e+00]]\n",
      "\n",
      "  [[0.00000000e+00]\n",
      "   [0.00000000e+00]\n",
      "   [0.00000000e+00]\n",
      "   ...\n",
      "   [0.00000000e+00]\n",
      "   [0.00000000e+00]\n",
      "   [0.00000000e+00]]\n",
      "\n",
      "  [[0.00000000e+00]\n",
      "   [0.00000000e+00]\n",
      "   [0.00000000e+00]\n",
      "   ...\n",
      "   [0.00000000e+00]\n",
      "   [0.00000000e+00]\n",
      "   [0.00000000e+00]]\n",
      "\n",
      "  ...\n",
      "\n",
      "  [[5.21788606e-05]\n",
      "   [3.53390751e-05]\n",
      "   [3.11996773e-05]\n",
      "   ...\n",
      "   [4.51868473e-05]\n",
      "   [4.23198871e-05]\n",
      "   [2.58028740e-05]]\n",
      "\n",
      "  [[4.66677593e-05]\n",
      "   [2.39746551e-05]\n",
      "   [2.08380843e-05]\n",
      "   ...\n",
      "   [8.51343248e-06]\n",
      "   [1.35416594e-05]\n",
      "   [2.03932868e-05]]\n",
      "\n",
      "  [[5.03819901e-05]\n",
      "   [4.02291043e-05]\n",
      "   [3.25973779e-05]\n",
      "   ...\n",
      "   [1.27234625e-05]\n",
      "   [2.38698758e-05]\n",
      "   [1.51356217e-05]]]]\n",
      "1/1 [==============================] - 1s 1s/step\n"
     ]
    }
   ],
   "source": [
    "print(X_test)\n",
    "yhat = model.predict(X_test)\n"
   ],
   "metadata": {
    "collapsed": false,
    "ExecuteTime": {
     "end_time": "2024-05-25T10:17:44.750006400Z",
     "start_time": "2024-05-25T10:17:43.427015200Z"
    }
   },
   "id": "e926604e6b794891"
  },
  {
   "cell_type": "code",
   "execution_count": 138,
   "outputs": [],
   "source": [
    "yhat = [1 if prediction > 0.5 else 0 for prediction in yhat]\n"
   ],
   "metadata": {
    "collapsed": false,
    "ExecuteTime": {
     "end_time": "2024-05-25T10:17:51.596907300Z",
     "start_time": "2024-05-25T10:17:51.524912100Z"
    }
   },
   "id": "f11f6135427754f"
  },
  {
   "cell_type": "code",
   "execution_count": 139,
   "outputs": [
    {
     "data": {
      "text/plain": "[1, 1, 1, 1, 1, 1, 1, 1, 1, 1, 1, 1, 1, 1, 1, 1]"
     },
     "execution_count": 139,
     "metadata": {},
     "output_type": "execute_result"
    }
   ],
   "source": [
    "yhat"
   ],
   "metadata": {
    "collapsed": false,
    "ExecuteTime": {
     "end_time": "2024-05-25T10:17:53.362101400Z",
     "start_time": "2024-05-25T10:17:53.252103700Z"
    }
   },
   "id": "d85b7909ba30c00"
  },
  {
   "cell_type": "code",
   "execution_count": 140,
   "outputs": [],
   "source": [
    "\n",
    "def load_mp3_16k_mono(filename):\n",
    "    res = tfio.audio.AudioIOTensor(filename)\n",
    "    tensor = res.to_tensor()\n",
    "    tensor = tf.math.reduce_sum(tensor, axis=1)/2\n",
    "    \n",
    "    sample_rate = res.rate \n",
    "    sample_rate = tf.cast(sample_rate, dtype=tf.int64)\n",
    "    wav = tfio.audio.resample(tensor, rate_in=sample_rate, rate_out=160000)\n",
    "    return wav\n"
   ],
   "metadata": {
    "collapsed": false,
    "ExecuteTime": {
     "end_time": "2024-05-25T10:18:02.706828800Z",
     "start_time": "2024-05-25T10:18:02.611832400Z"
    }
   },
   "id": "c7069a148e7b9267"
  },
  {
   "cell_type": "code",
   "execution_count": 141,
   "outputs": [],
   "source": [
    "wav_file = r\"C:\\dumi\\bird_reco\\sounds\\recordings\\sound_.wav\""
   ],
   "metadata": {
    "collapsed": false,
    "ExecuteTime": {
     "end_time": "2024-05-25T10:18:21.383633600Z",
     "start_time": "2024-05-25T10:18:21.330641100Z"
    }
   },
   "id": "f0dcbac320333dd0"
  },
  {
   "cell_type": "code",
   "execution_count": 142,
   "outputs": [],
   "source": [
    "wav = load_mp3_16k_mono(wav_file)"
   ],
   "metadata": {
    "collapsed": false,
    "ExecuteTime": {
     "end_time": "2024-05-25T10:18:22.802302100Z",
     "start_time": "2024-05-25T10:18:22.105299800Z"
    }
   },
   "id": "ff5bee43d22970c2"
  },
  {
   "cell_type": "code",
   "execution_count": 143,
   "outputs": [],
   "source": [
    "audio_slices = tf.keras.utils.timeseries_dataset_from_array(wav, wav, sequence_length=48000, sequence_stride=48000, batch_size=1)\n"
   ],
   "metadata": {
    "collapsed": false,
    "ExecuteTime": {
     "end_time": "2024-05-25T10:18:24.131302500Z",
     "start_time": "2024-05-25T10:18:24.012303200Z"
    }
   },
   "id": "99ec1708d70b5833"
  },
  {
   "cell_type": "code",
   "execution_count": 144,
   "outputs": [],
   "source": [
    "samples, index = audio_slices.as_numpy_iterator().next()\n"
   ],
   "metadata": {
    "collapsed": false,
    "ExecuteTime": {
     "end_time": "2024-05-25T10:18:25.257249800Z",
     "start_time": "2024-05-25T10:18:25.137252800Z"
    }
   },
   "id": "97e09e98f0332dda"
  },
  {
   "cell_type": "code",
   "execution_count": 144,
   "outputs": [],
   "source": [],
   "metadata": {
    "collapsed": false,
    "ExecuteTime": {
     "end_time": "2024-05-25T10:18:26.009326600Z",
     "start_time": "2024-05-25T10:18:25.985332500Z"
    }
   },
   "id": "544d8db4f7acac2"
  },
  {
   "cell_type": "code",
   "execution_count": 145,
   "outputs": [],
   "source": [
    "def preprocess_mp3(sample, index):\n",
    "    sample = sample[0]\n",
    "    zero_padding = tf.zeros([48000] - tf.shape(sample), dtype=tf.float32)\n",
    "    wav = tf.concat([zero_padding, sample],0)\n",
    "    spectrogram = tf.signal.stft(wav, frame_length=320, frame_step=32)\n",
    "    spectrogram = tf.abs(spectrogram)\n",
    "    spectrogram = tf.expand_dims(spectrogram, axis=2)\n",
    "    return spectrogram"
   ],
   "metadata": {
    "collapsed": false,
    "ExecuteTime": {
     "end_time": "2024-05-25T10:18:26.691583600Z",
     "start_time": "2024-05-25T10:18:26.653590300Z"
    }
   },
   "id": "c865dc787350ea"
  },
  {
   "cell_type": "code",
   "execution_count": 146,
   "outputs": [],
   "source": [
    "audio_slices = tf.keras.utils.timeseries_dataset_from_array(wav, wav, sequence_length=48000, sequence_stride=48000, batch_size=1)\n",
    "audio_slices = audio_slices.map(preprocess_mp3)\n",
    "audio_slices = audio_slices.batch(64)"
   ],
   "metadata": {
    "collapsed": false,
    "ExecuteTime": {
     "end_time": "2024-05-25T10:18:28.525211900Z",
     "start_time": "2024-05-25T10:18:28.091211300Z"
    }
   },
   "id": "f6a03a7e2b3ff287"
  },
  {
   "cell_type": "code",
   "execution_count": 147,
   "outputs": [
    {
     "name": "stdout",
     "output_type": "stream",
     "text": [
      "1/1 [==============================] - 3s 3s/step\n"
     ]
    },
    {
     "data": {
      "text/plain": "[1,\n 1,\n 1,\n 1,\n 1,\n 1,\n 1,\n 1,\n 1,\n 1,\n 1,\n 1,\n 1,\n 1,\n 1,\n 1,\n 1,\n 1,\n 1,\n 1,\n 1,\n 1,\n 1,\n 1,\n 1,\n 1,\n 1,\n 1,\n 1,\n 1,\n 1,\n 1,\n 1,\n 1,\n 1,\n 1,\n 1,\n 1,\n 1,\n 1,\n 1,\n 1,\n 1,\n 1,\n 1,\n 1,\n 1,\n 1,\n 1,\n 1,\n 1,\n 1,\n 1]"
     },
     "execution_count": 147,
     "metadata": {},
     "output_type": "execute_result"
    }
   ],
   "source": [
    "yhat = model.predict(audio_slices)\n",
    "yhat = [1 if prediction > 0.5 else 0 for prediction in yhat]\n",
    "yhat"
   ],
   "metadata": {
    "collapsed": false,
    "ExecuteTime": {
     "end_time": "2024-05-25T10:18:32.675446900Z",
     "start_time": "2024-05-25T10:18:29.642407Z"
    }
   },
   "id": "fe01ebffe0074988"
  },
  {
   "cell_type": "code",
   "execution_count": 148,
   "outputs": [],
   "source": [
    "from itertools import groupby\n"
   ],
   "metadata": {
    "collapsed": false,
    "ExecuteTime": {
     "end_time": "2024-05-25T10:18:35.131280700Z",
     "start_time": "2024-05-25T10:18:35.106279700Z"
    }
   },
   "id": "ad5cd8b617337656"
  },
  {
   "cell_type": "code",
   "execution_count": 149,
   "outputs": [
    {
     "data": {
      "text/plain": "[1]"
     },
     "execution_count": 149,
     "metadata": {},
     "output_type": "execute_result"
    }
   ],
   "source": [
    "yhat = [key for key, group in groupby(yhat)]\n",
    "calls = tf.math.reduce_sum(yhat).numpy()\n",
    "yhat\n"
   ],
   "metadata": {
    "collapsed": false,
    "ExecuteTime": {
     "end_time": "2024-05-25T10:18:37.351881Z",
     "start_time": "2024-05-25T10:18:37.322892500Z"
    }
   },
   "id": "e5b103c9e6aa547b"
  },
  {
   "cell_type": "code",
   "execution_count": 150,
   "outputs": [
    {
     "data": {
      "text/plain": "1"
     },
     "execution_count": 150,
     "metadata": {},
     "output_type": "execute_result"
    }
   ],
   "source": [
    "calls\n"
   ],
   "metadata": {
    "collapsed": false,
    "ExecuteTime": {
     "end_time": "2024-05-25T10:18:39.590328100Z",
     "start_time": "2024-05-25T10:18:39.539953800Z"
    }
   },
   "id": "e571681599656535"
  },
  {
   "cell_type": "code",
   "execution_count": 151,
   "outputs": [
    {
     "name": "stdout",
     "output_type": "stream",
     "text": [
      "1/1 [==============================] - 3s 3s/step\n"
     ]
    }
   ],
   "source": [
    "results = {}\n",
    "for file in os.listdir(os.path.join('..', 'sounds', 'recordings')):\n",
    "    FILEPATH = os.path.join('..', 'sounds', 'recordings', file)\n",
    "    \n",
    "    wav = load_mp3_16k_mono(FILEPATH)\n",
    "    audio_slices = tf.keras.utils.timeseries_dataset_from_array(wav, wav, sequence_length=48000, sequence_stride=48000, batch_size=1)\n",
    "    audio_slices = audio_slices.map(preprocess_mp3)\n",
    "    audio_slices = audio_slices.batch(64)\n",
    "    \n",
    "    yhat = model.predict(audio_slices)\n",
    "    \n",
    "    results[file] = yhat"
   ],
   "metadata": {
    "collapsed": false,
    "ExecuteTime": {
     "end_time": "2024-05-25T10:18:43.484926700Z",
     "start_time": "2024-05-25T10:18:39.722337300Z"
    }
   },
   "id": "ef02e2efbb87bffd"
  },
  {
   "cell_type": "code",
   "execution_count": 152,
   "outputs": [
    {
     "data": {
      "text/plain": "{'sound_.wav': array([[1.],\n        [1.],\n        [1.],\n        [1.],\n        [1.],\n        [1.],\n        [1.],\n        [1.],\n        [1.],\n        [1.],\n        [1.],\n        [1.],\n        [1.],\n        [1.],\n        [1.],\n        [1.],\n        [1.],\n        [1.],\n        [1.],\n        [1.],\n        [1.],\n        [1.],\n        [1.],\n        [1.],\n        [1.],\n        [1.],\n        [1.],\n        [1.],\n        [1.],\n        [1.],\n        [1.],\n        [1.],\n        [1.],\n        [1.],\n        [1.],\n        [1.],\n        [1.],\n        [1.],\n        [1.],\n        [1.],\n        [1.],\n        [1.],\n        [1.],\n        [1.],\n        [1.],\n        [1.],\n        [1.],\n        [1.],\n        [1.],\n        [1.],\n        [1.],\n        [1.],\n        [1.]], dtype=float32)}"
     },
     "execution_count": 152,
     "metadata": {},
     "output_type": "execute_result"
    }
   ],
   "source": [
    "results\n"
   ],
   "metadata": {
    "collapsed": false,
    "ExecuteTime": {
     "end_time": "2024-05-25T10:18:44.551019200Z",
     "start_time": "2024-05-25T10:18:44.520019300Z"
    }
   },
   "id": "4e881b56a30629eb"
  },
  {
   "cell_type": "code",
   "execution_count": 152,
   "outputs": [],
   "source": [],
   "metadata": {
    "collapsed": false,
    "ExecuteTime": {
     "end_time": "2024-05-25T10:18:45.537878300Z",
     "start_time": "2024-05-25T10:18:45.510875700Z"
    }
   },
   "id": "89565d5d596a8691"
  },
  {
   "cell_type": "code",
   "execution_count": 153,
   "outputs": [
    {
     "name": "stdout",
     "output_type": "stream",
     "text": [
      "dict_items([('sound_.wav', array([[1.],\n",
      "       [1.],\n",
      "       [1.],\n",
      "       [1.],\n",
      "       [1.],\n",
      "       [1.],\n",
      "       [1.],\n",
      "       [1.],\n",
      "       [1.],\n",
      "       [1.],\n",
      "       [1.],\n",
      "       [1.],\n",
      "       [1.],\n",
      "       [1.],\n",
      "       [1.],\n",
      "       [1.],\n",
      "       [1.],\n",
      "       [1.],\n",
      "       [1.],\n",
      "       [1.],\n",
      "       [1.],\n",
      "       [1.],\n",
      "       [1.],\n",
      "       [1.],\n",
      "       [1.],\n",
      "       [1.],\n",
      "       [1.],\n",
      "       [1.],\n",
      "       [1.],\n",
      "       [1.],\n",
      "       [1.],\n",
      "       [1.],\n",
      "       [1.],\n",
      "       [1.],\n",
      "       [1.],\n",
      "       [1.],\n",
      "       [1.],\n",
      "       [1.],\n",
      "       [1.],\n",
      "       [1.],\n",
      "       [1.],\n",
      "       [1.],\n",
      "       [1.],\n",
      "       [1.],\n",
      "       [1.],\n",
      "       [1.],\n",
      "       [1.],\n",
      "       [1.],\n",
      "       [1.],\n",
      "       [1.],\n",
      "       [1.],\n",
      "       [1.],\n",
      "       [1.]], dtype=float32))])\n"
     ]
    }
   ],
   "source": [
    "class_preds = {}\n",
    "print(results.items())\n",
    "for file, logits in results.items():\n",
    "    class_preds[file] = [1 if prediction > 0.5 else 0 for prediction in logits]\n",
    "    \n"
   ],
   "metadata": {
    "collapsed": false,
    "ExecuteTime": {
     "end_time": "2024-05-25T10:18:46.336321600Z",
     "start_time": "2024-05-25T10:18:46.298328100Z"
    }
   },
   "id": "a4c348edfbb66c06"
  },
  {
   "cell_type": "code",
   "execution_count": 154,
   "outputs": [
    {
     "data": {
      "text/plain": "53"
     },
     "execution_count": 154,
     "metadata": {},
     "output_type": "execute_result"
    }
   ],
   "source": [
    "len(class_preds['sound_.wav'])"
   ],
   "metadata": {
    "collapsed": false,
    "ExecuteTime": {
     "end_time": "2024-05-25T10:18:47.170618200Z",
     "start_time": "2024-05-25T10:18:47.121618800Z"
    }
   },
   "id": "2424befd6830ee54"
  },
  {
   "cell_type": "code",
   "execution_count": 155,
   "outputs": [
    {
     "data": {
      "text/plain": "{'sound_.wav': 1}"
     },
     "execution_count": 155,
     "metadata": {},
     "output_type": "execute_result"
    }
   ],
   "source": [
    "postprocessed = {}\n",
    "for file, scores in class_preds.items():\n",
    "    postprocessed[file] = tf.math.reduce_sum([key for key, group in groupby(scores)]).numpy()\n",
    "postprocessed"
   ],
   "metadata": {
    "collapsed": false,
    "ExecuteTime": {
     "end_time": "2024-05-25T10:18:47.721861800Z",
     "start_time": "2024-05-25T10:18:47.668857300Z"
    }
   },
   "id": "1b489f861c247522"
  },
  {
   "cell_type": "code",
   "execution_count": 156,
   "outputs": [],
   "source": [
    "import csv\n"
   ],
   "metadata": {
    "collapsed": false,
    "ExecuteTime": {
     "end_time": "2024-05-25T10:18:48.406919Z",
     "start_time": "2024-05-25T10:18:48.378931600Z"
    }
   },
   "id": "656010ccca52cc78"
  },
  {
   "cell_type": "code",
   "execution_count": 157,
   "outputs": [],
   "source": [
    "with open('results.csv', 'w', newline='') as f:\n",
    "    writer = csv.writer(f, delimiter=',')\n",
    "    writer.writerow(['recording', 'house_sparrow_calls'])\n",
    "    for key, value in postprocessed.items():\n",
    "        writer.writerow([key, value])"
   ],
   "metadata": {
    "collapsed": false,
    "ExecuteTime": {
     "end_time": "2024-05-25T10:18:48.854984100Z",
     "start_time": "2024-05-25T10:18:48.812986500Z"
    }
   },
   "id": "5841fb09f0abeedf"
  },
  {
   "cell_type": "code",
   "execution_count": null,
   "outputs": [],
   "source": [],
   "metadata": {
    "collapsed": false,
    "ExecuteTime": {
     "start_time": "2024-05-25T07:37:36.371601700Z"
    }
   },
   "id": "ca427748b6232a1"
  }
 ],
 "metadata": {
  "kernelspec": {
   "display_name": "Python 3",
   "language": "python",
   "name": "python3"
  },
  "language_info": {
   "codemirror_mode": {
    "name": "ipython",
    "version": 2
   },
   "file_extension": ".py",
   "mimetype": "text/x-python",
   "name": "python",
   "nbconvert_exporter": "python",
   "pygments_lexer": "ipython2",
   "version": "2.7.6"
  }
 },
 "nbformat": 4,
 "nbformat_minor": 5
}
